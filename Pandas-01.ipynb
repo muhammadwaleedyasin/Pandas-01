{
 "cells": [
  {
   "cell_type": "markdown",
   "id": "7f756fdc",
   "metadata": {},
   "source": [
    "# Pandas"
   ]
  },
  {
   "cell_type": "code",
   "execution_count": 5,
   "id": "6a0b89f5",
   "metadata": {},
   "outputs": [
    {
     "data": {
      "text/plain": [
       "0    1\n",
       "1    2\n",
       "2    3\n",
       "3    4\n",
       "4    5\n",
       "dtype: int64"
      ]
     },
     "execution_count": 5,
     "metadata": {},
     "output_type": "execute_result"
    }
   ],
   "source": [
    "import pandas as pd\n",
    "s1=pd.Series([1,2,3,4,5])\n",
    "s1"
   ]
  },
  {
   "cell_type": "code",
   "execution_count": 6,
   "id": "37ba1b46",
   "metadata": {},
   "outputs": [
    {
     "data": {
      "text/plain": [
       "a    1\n",
       "b    2\n",
       "c    3\n",
       "d    4\n",
       "e    5\n",
       "dtype: int64"
      ]
     },
     "execution_count": 6,
     "metadata": {},
     "output_type": "execute_result"
    }
   ],
   "source": [
    "s1=pd.Series([1,2,3,4,5],index=['a','b','c','d','e'])\n",
    "s1"
   ]
  },
  {
   "cell_type": "code",
   "execution_count": 7,
   "id": "f47bcec9",
   "metadata": {},
   "outputs": [
    {
     "data": {
      "text/plain": [
       "a    10\n",
       "b    20\n",
       "c    30\n",
       "dtype: int64"
      ]
     },
     "execution_count": 7,
     "metadata": {},
     "output_type": "execute_result"
    }
   ],
   "source": [
    "pd.Series({'a':10,'b':20,'c':30})"
   ]
  },
  {
   "cell_type": "code",
   "execution_count": 8,
   "id": "f289bc8d",
   "metadata": {},
   "outputs": [
    {
     "data": {
      "text/plain": [
       "b    20.0\n",
       "c    30.0\n",
       "d     NaN\n",
       "a    10.0\n",
       "dtype: float64"
      ]
     },
     "execution_count": 8,
     "metadata": {},
     "output_type": "execute_result"
    }
   ],
   "source": [
    "#Changing Index Positions\n",
    "pd.Series({'a':10,'b':20,'c':30},index=['b','c','d','a'])"
   ]
  },
  {
   "cell_type": "markdown",
   "id": "1094b095",
   "metadata": {},
   "source": [
    "### Extracting Individual Elements"
   ]
  },
  {
   "cell_type": "code",
   "execution_count": 9,
   "id": "d317bb44",
   "metadata": {},
   "outputs": [
    {
     "data": {
      "text/plain": [
       "4"
      ]
     },
     "execution_count": 9,
     "metadata": {},
     "output_type": "execute_result"
    }
   ],
   "source": [
    "s1=pd.Series([1,2,3,4,5,6,7,8,9])\n",
    "s1[3]"
   ]
  },
  {
   "cell_type": "code",
   "execution_count": 10,
   "id": "58850a4a",
   "metadata": {},
   "outputs": [
    {
     "data": {
      "text/plain": [
       "0    1\n",
       "1    2\n",
       "2    3\n",
       "3    4\n",
       "dtype: int64"
      ]
     },
     "execution_count": 10,
     "metadata": {},
     "output_type": "execute_result"
    }
   ],
   "source": [
    "#Extracting a Sequence of elements\n",
    "s1=pd.Series([1,2,3,4,5,6,7,8,9])\n",
    "s1[:4]"
   ]
  },
  {
   "cell_type": "code",
   "execution_count": 11,
   "id": "53d8a20f",
   "metadata": {},
   "outputs": [
    {
     "data": {
      "text/plain": [
       "6    7\n",
       "7    8\n",
       "8    9\n",
       "dtype: int64"
      ]
     },
     "execution_count": 11,
     "metadata": {},
     "output_type": "execute_result"
    }
   ],
   "source": [
    "#Extracting Elements from back\n",
    "s1[-3:]"
   ]
  },
  {
   "cell_type": "code",
   "execution_count": 12,
   "id": "04e95bd5",
   "metadata": {},
   "outputs": [
    {
     "data": {
      "text/plain": [
       "0     6\n",
       "1     7\n",
       "2     8\n",
       "3     9\n",
       "4    10\n",
       "5    11\n",
       "6    12\n",
       "7    13\n",
       "8    14\n",
       "dtype: int64"
      ]
     },
     "execution_count": 12,
     "metadata": {},
     "output_type": "execute_result"
    }
   ],
   "source": [
    "#Basic Math Operations on Series\n",
    "s1+5"
   ]
  },
  {
   "cell_type": "code",
   "execution_count": 13,
   "id": "24be063e",
   "metadata": {},
   "outputs": [],
   "source": [
    "s2=pd.Series([10,20,30,40,50,60,70,80,90])"
   ]
  },
  {
   "cell_type": "code",
   "execution_count": 14,
   "id": "eae47e94",
   "metadata": {},
   "outputs": [
    {
     "data": {
      "text/plain": [
       "0    11\n",
       "1    22\n",
       "2    33\n",
       "3    44\n",
       "4    55\n",
       "5    66\n",
       "6    77\n",
       "7    88\n",
       "8    99\n",
       "dtype: int64"
      ]
     },
     "execution_count": 14,
     "metadata": {},
     "output_type": "execute_result"
    }
   ],
   "source": [
    "s1+s2"
   ]
  },
  {
   "cell_type": "code",
   "execution_count": 18,
   "id": "4259aa9e",
   "metadata": {},
   "outputs": [
    {
     "ename": "AttributeError",
     "evalue": "module 'pandas' has no attribute 'Dataframe'",
     "output_type": "error",
     "traceback": [
      "\u001b[1;31m---------------------------------------------------------------------------\u001b[0m",
      "\u001b[1;31mAttributeError\u001b[0m                            Traceback (most recent call last)",
      "\u001b[1;32m<ipython-input-18-f798e1e13a57>\u001b[0m in \u001b[0;36m<module>\u001b[1;34m\u001b[0m\n\u001b[0;32m      1\u001b[0m \u001b[1;31m#Dataframe\u001b[0m\u001b[1;33m\u001b[0m\u001b[1;33m\u001b[0m\u001b[1;33m\u001b[0m\u001b[0m\n\u001b[1;32m----> 2\u001b[1;33m \u001b[0mdf\u001b[0m\u001b[1;33m=\u001b[0m\u001b[0mpd\u001b[0m\u001b[1;33m.\u001b[0m\u001b[0mDataframe\u001b[0m\u001b[1;33m(\u001b[0m\u001b[1;33m{\u001b[0m\u001b[1;34m\"Name\"\u001b[0m\u001b[1;33m:\u001b[0m\u001b[1;33m[\u001b[0m\u001b[1;34m\"Waleed\"\u001b[0m\u001b[1;33m,\u001b[0m\u001b[1;34m\"Buraak\"\u001b[0m\u001b[1;33m,\u001b[0m\u001b[1;34m\"OOX\"\u001b[0m\u001b[1;33m]\u001b[0m\u001b[1;33m,\u001b[0m\u001b[1;34m\"Marks\"\u001b[0m\u001b[1;33m:\u001b[0m\u001b[1;33m[\u001b[0m\u001b[1;36m50\u001b[0m\u001b[1;33m,\u001b[0m\u001b[1;36m60\u001b[0m\u001b[1;33m,\u001b[0m\u001b[1;36m100\u001b[0m\u001b[1;33m]\u001b[0m\u001b[1;33m}\u001b[0m\u001b[1;33m)\u001b[0m\u001b[1;33m\u001b[0m\u001b[1;33m\u001b[0m\u001b[0m\n\u001b[0m",
      "\u001b[1;32m~\\anaconda3\\lib\\site-packages\\pandas\\__init__.py\u001b[0m in \u001b[0;36m__getattr__\u001b[1;34m(name)\u001b[0m\n\u001b[0;32m    242\u001b[0m         \u001b[1;32mreturn\u001b[0m \u001b[0m_SparseArray\u001b[0m\u001b[1;33m\u001b[0m\u001b[1;33m\u001b[0m\u001b[0m\n\u001b[0;32m    243\u001b[0m \u001b[1;33m\u001b[0m\u001b[0m\n\u001b[1;32m--> 244\u001b[1;33m     \u001b[1;32mraise\u001b[0m \u001b[0mAttributeError\u001b[0m\u001b[1;33m(\u001b[0m\u001b[1;34mf\"module 'pandas' has no attribute '{name}'\"\u001b[0m\u001b[1;33m)\u001b[0m\u001b[1;33m\u001b[0m\u001b[1;33m\u001b[0m\u001b[0m\n\u001b[0m\u001b[0;32m    245\u001b[0m \u001b[1;33m\u001b[0m\u001b[0m\n\u001b[0;32m    246\u001b[0m \u001b[1;33m\u001b[0m\u001b[0m\n",
      "\u001b[1;31mAttributeError\u001b[0m: module 'pandas' has no attribute 'Dataframe'"
     ]
    }
   ],
   "source": [
    "#Dataframe\n",
    "df=pd.Dataframe({\"Name\":[\"Waleed\",\"Buraak\",\"OOX\"],\"Marks\":[50,60,100]})"
   ]
  },
  {
   "cell_type": "code",
   "execution_count": 19,
   "id": "cc1efd1b",
   "metadata": {},
   "outputs": [],
   "source": [
    "iris=pd.read_csv('Player.csv')"
   ]
  },
  {
   "cell_type": "code",
   "execution_count": 20,
   "id": "74f95e26",
   "metadata": {},
   "outputs": [
    {
     "data": {
      "text/html": [
       "<div>\n",
       "<style scoped>\n",
       "    .dataframe tbody tr th:only-of-type {\n",
       "        vertical-align: middle;\n",
       "    }\n",
       "\n",
       "    .dataframe tbody tr th {\n",
       "        vertical-align: top;\n",
       "    }\n",
       "\n",
       "    .dataframe thead th {\n",
       "        text-align: right;\n",
       "    }\n",
       "</style>\n",
       "<table border=\"1\" class=\"dataframe\">\n",
       "  <thead>\n",
       "    <tr style=\"text-align: right;\">\n",
       "      <th></th>\n",
       "      <th>Player_Id</th>\n",
       "      <th>Player_Name</th>\n",
       "      <th>DOB</th>\n",
       "      <th>Batting_Hand</th>\n",
       "      <th>Bowling_Skill</th>\n",
       "      <th>Country</th>\n",
       "      <th>Is_Umpire</th>\n",
       "      <th>Unnamed: 7</th>\n",
       "    </tr>\n",
       "  </thead>\n",
       "  <tbody>\n",
       "    <tr>\n",
       "      <th>0</th>\n",
       "      <td>1</td>\n",
       "      <td>SC Ganguly</td>\n",
       "      <td>8-Jul-72</td>\n",
       "      <td>Left_Hand</td>\n",
       "      <td>Right-arm medium</td>\n",
       "      <td>India</td>\n",
       "      <td>0</td>\n",
       "      <td>NaN</td>\n",
       "    </tr>\n",
       "    <tr>\n",
       "      <th>1</th>\n",
       "      <td>2</td>\n",
       "      <td>BB McCullum</td>\n",
       "      <td>27-Sep-81</td>\n",
       "      <td>Right_Hand</td>\n",
       "      <td>Right-arm medium</td>\n",
       "      <td>New Zealand</td>\n",
       "      <td>0</td>\n",
       "      <td>NaN</td>\n",
       "    </tr>\n",
       "    <tr>\n",
       "      <th>2</th>\n",
       "      <td>3</td>\n",
       "      <td>RT Ponting</td>\n",
       "      <td>19-Dec-74</td>\n",
       "      <td>Right_Hand</td>\n",
       "      <td>Right-arm medium</td>\n",
       "      <td>Australia</td>\n",
       "      <td>0</td>\n",
       "      <td>NaN</td>\n",
       "    </tr>\n",
       "    <tr>\n",
       "      <th>3</th>\n",
       "      <td>4</td>\n",
       "      <td>DJ Hussey</td>\n",
       "      <td>15-Jul-77</td>\n",
       "      <td>Right_Hand</td>\n",
       "      <td>Right-arm offbreak</td>\n",
       "      <td>Australia</td>\n",
       "      <td>0</td>\n",
       "      <td>NaN</td>\n",
       "    </tr>\n",
       "    <tr>\n",
       "      <th>4</th>\n",
       "      <td>5</td>\n",
       "      <td>Mohammad Hafeez</td>\n",
       "      <td>17-Oct-80</td>\n",
       "      <td>Right_Hand</td>\n",
       "      <td>Right-arm offbreak</td>\n",
       "      <td>Pakistan</td>\n",
       "      <td>0</td>\n",
       "      <td>NaN</td>\n",
       "    </tr>\n",
       "  </tbody>\n",
       "</table>\n",
       "</div>"
      ],
      "text/plain": [
       "   Player_Id      Player_Name        DOB Batting_Hand       Bowling_Skill  \\\n",
       "0          1       SC Ganguly   8-Jul-72    Left_Hand    Right-arm medium   \n",
       "1          2      BB McCullum  27-Sep-81   Right_Hand    Right-arm medium   \n",
       "2          3       RT Ponting  19-Dec-74   Right_Hand    Right-arm medium   \n",
       "3          4        DJ Hussey  15-Jul-77   Right_Hand  Right-arm offbreak   \n",
       "4          5  Mohammad Hafeez  17-Oct-80   Right_Hand  Right-arm offbreak   \n",
       "\n",
       "       Country  Is_Umpire  Unnamed: 7  \n",
       "0        India          0         NaN  \n",
       "1  New Zealand          0         NaN  \n",
       "2    Australia          0         NaN  \n",
       "3    Australia          0         NaN  \n",
       "4     Pakistan          0         NaN  "
      ]
     },
     "execution_count": 20,
     "metadata": {},
     "output_type": "execute_result"
    }
   ],
   "source": [
    "iris.head()"
   ]
  },
  {
   "cell_type": "code",
   "execution_count": 22,
   "id": "3dbe2127",
   "metadata": {},
   "outputs": [
    {
     "data": {
      "text/html": [
       "<div>\n",
       "<style scoped>\n",
       "    .dataframe tbody tr th:only-of-type {\n",
       "        vertical-align: middle;\n",
       "    }\n",
       "\n",
       "    .dataframe tbody tr th {\n",
       "        vertical-align: top;\n",
       "    }\n",
       "\n",
       "    .dataframe thead th {\n",
       "        text-align: right;\n",
       "    }\n",
       "</style>\n",
       "<table border=\"1\" class=\"dataframe\">\n",
       "  <thead>\n",
       "    <tr style=\"text-align: right;\">\n",
       "      <th></th>\n",
       "      <th>Player_Id</th>\n",
       "      <th>Player_Name</th>\n",
       "      <th>DOB</th>\n",
       "      <th>Batting_Hand</th>\n",
       "      <th>Bowling_Skill</th>\n",
       "      <th>Country</th>\n",
       "      <th>Is_Umpire</th>\n",
       "      <th>Unnamed: 7</th>\n",
       "    </tr>\n",
       "  </thead>\n",
       "  <tbody>\n",
       "    <tr>\n",
       "      <th>518</th>\n",
       "      <td>519</td>\n",
       "      <td>Subroto Das</td>\n",
       "      <td>NaN</td>\n",
       "      <td>NaN</td>\n",
       "      <td>NaN</td>\n",
       "      <td>India</td>\n",
       "      <td>1</td>\n",
       "      <td>NaN</td>\n",
       "    </tr>\n",
       "    <tr>\n",
       "      <th>519</th>\n",
       "      <td>520</td>\n",
       "      <td>K Srinivasan</td>\n",
       "      <td>NaN</td>\n",
       "      <td>NaN</td>\n",
       "      <td>NaN</td>\n",
       "      <td>India</td>\n",
       "      <td>1</td>\n",
       "      <td>NaN</td>\n",
       "    </tr>\n",
       "    <tr>\n",
       "      <th>520</th>\n",
       "      <td>521</td>\n",
       "      <td>VK Sharma</td>\n",
       "      <td>NaN</td>\n",
       "      <td>NaN</td>\n",
       "      <td>NaN</td>\n",
       "      <td>India</td>\n",
       "      <td>1</td>\n",
       "      <td>NaN</td>\n",
       "    </tr>\n",
       "    <tr>\n",
       "      <th>521</th>\n",
       "      <td>523</td>\n",
       "      <td>AV Wankhade</td>\n",
       "      <td>14-Mar-92</td>\n",
       "      <td>Right_Hand</td>\n",
       "      <td>NaN</td>\n",
       "      <td>India</td>\n",
       "      <td>0</td>\n",
       "      <td>NaN</td>\n",
       "    </tr>\n",
       "    <tr>\n",
       "      <th>522</th>\n",
       "      <td>524</td>\n",
       "      <td>B Aparajith</td>\n",
       "      <td>8-Jul-94</td>\n",
       "      <td>Right_Hand</td>\n",
       "      <td>Right-arm offbreak</td>\n",
       "      <td>India</td>\n",
       "      <td>0</td>\n",
       "      <td>NaN</td>\n",
       "    </tr>\n",
       "  </tbody>\n",
       "</table>\n",
       "</div>"
      ],
      "text/plain": [
       "     Player_Id   Player_Name        DOB Batting_Hand       Bowling_Skill  \\\n",
       "518        519   Subroto Das        NaN          NaN                 NaN   \n",
       "519        520  K Srinivasan        NaN          NaN                 NaN   \n",
       "520        521     VK Sharma        NaN          NaN                 NaN   \n",
       "521        523   AV Wankhade  14-Mar-92   Right_Hand                 NaN   \n",
       "522        524   B Aparajith   8-Jul-94   Right_Hand  Right-arm offbreak   \n",
       "\n",
       "    Country  Is_Umpire  Unnamed: 7  \n",
       "518   India          1         NaN  \n",
       "519   India          1         NaN  \n",
       "520   India          1         NaN  \n",
       "521   India          0         NaN  \n",
       "522   India          0         NaN  "
      ]
     },
     "execution_count": 22,
     "metadata": {},
     "output_type": "execute_result"
    }
   ],
   "source": [
    "iris.tail()"
   ]
  },
  {
   "cell_type": "code",
   "execution_count": 23,
   "id": "27b1b9e7",
   "metadata": {},
   "outputs": [
    {
     "data": {
      "text/plain": [
       "(523, 8)"
      ]
     },
     "execution_count": 23,
     "metadata": {},
     "output_type": "execute_result"
    }
   ],
   "source": [
    "iris.shape"
   ]
  },
  {
   "cell_type": "code",
   "execution_count": 24,
   "id": "10f7b921",
   "metadata": {},
   "outputs": [
    {
     "data": {
      "text/html": [
       "<div>\n",
       "<style scoped>\n",
       "    .dataframe tbody tr th:only-of-type {\n",
       "        vertical-align: middle;\n",
       "    }\n",
       "\n",
       "    .dataframe tbody tr th {\n",
       "        vertical-align: top;\n",
       "    }\n",
       "\n",
       "    .dataframe thead th {\n",
       "        text-align: right;\n",
       "    }\n",
       "</style>\n",
       "<table border=\"1\" class=\"dataframe\">\n",
       "  <thead>\n",
       "    <tr style=\"text-align: right;\">\n",
       "      <th></th>\n",
       "      <th>Player_Id</th>\n",
       "      <th>Is_Umpire</th>\n",
       "      <th>Unnamed: 7</th>\n",
       "    </tr>\n",
       "  </thead>\n",
       "  <tbody>\n",
       "    <tr>\n",
       "      <th>count</th>\n",
       "      <td>523.000000</td>\n",
       "      <td>523.000000</td>\n",
       "      <td>12.000000</td>\n",
       "    </tr>\n",
       "    <tr>\n",
       "      <th>mean</th>\n",
       "      <td>262.003824</td>\n",
       "      <td>0.099426</td>\n",
       "      <td>6.500000</td>\n",
       "    </tr>\n",
       "    <tr>\n",
       "      <th>std</th>\n",
       "      <td>151.127981</td>\n",
       "      <td>0.299520</td>\n",
       "      <td>3.605551</td>\n",
       "    </tr>\n",
       "    <tr>\n",
       "      <th>min</th>\n",
       "      <td>1.000000</td>\n",
       "      <td>0.000000</td>\n",
       "      <td>1.000000</td>\n",
       "    </tr>\n",
       "    <tr>\n",
       "      <th>25%</th>\n",
       "      <td>131.500000</td>\n",
       "      <td>0.000000</td>\n",
       "      <td>3.750000</td>\n",
       "    </tr>\n",
       "    <tr>\n",
       "      <th>50%</th>\n",
       "      <td>262.000000</td>\n",
       "      <td>0.000000</td>\n",
       "      <td>6.500000</td>\n",
       "    </tr>\n",
       "    <tr>\n",
       "      <th>75%</th>\n",
       "      <td>392.500000</td>\n",
       "      <td>0.000000</td>\n",
       "      <td>9.250000</td>\n",
       "    </tr>\n",
       "    <tr>\n",
       "      <th>max</th>\n",
       "      <td>524.000000</td>\n",
       "      <td>1.000000</td>\n",
       "      <td>12.000000</td>\n",
       "    </tr>\n",
       "  </tbody>\n",
       "</table>\n",
       "</div>"
      ],
      "text/plain": [
       "        Player_Id   Is_Umpire  Unnamed: 7\n",
       "count  523.000000  523.000000   12.000000\n",
       "mean   262.003824    0.099426    6.500000\n",
       "std    151.127981    0.299520    3.605551\n",
       "min      1.000000    0.000000    1.000000\n",
       "25%    131.500000    0.000000    3.750000\n",
       "50%    262.000000    0.000000    6.500000\n",
       "75%    392.500000    0.000000    9.250000\n",
       "max    524.000000    1.000000   12.000000"
      ]
     },
     "execution_count": 24,
     "metadata": {},
     "output_type": "execute_result"
    }
   ],
   "source": [
    "iris.describe()"
   ]
  },
  {
   "cell_type": "code",
   "execution_count": 36,
   "id": "3f35cee5",
   "metadata": {},
   "outputs": [
    {
     "data": {
      "text/html": [
       "<div>\n",
       "<style scoped>\n",
       "    .dataframe tbody tr th:only-of-type {\n",
       "        vertical-align: middle;\n",
       "    }\n",
       "\n",
       "    .dataframe tbody tr th {\n",
       "        vertical-align: top;\n",
       "    }\n",
       "\n",
       "    .dataframe thead th {\n",
       "        text-align: right;\n",
       "    }\n",
       "</style>\n",
       "<table border=\"1\" class=\"dataframe\">\n",
       "  <thead>\n",
       "    <tr style=\"text-align: right;\">\n",
       "      <th></th>\n",
       "      <th>Player_Id</th>\n",
       "      <th>Player_Name</th>\n",
       "      <th>DOB</th>\n",
       "    </tr>\n",
       "  </thead>\n",
       "  <tbody>\n",
       "    <tr>\n",
       "      <th>500</th>\n",
       "      <td>501</td>\n",
       "      <td>RK Illingworth</td>\n",
       "      <td>NaN</td>\n",
       "    </tr>\n",
       "    <tr>\n",
       "      <th>501</th>\n",
       "      <td>502</td>\n",
       "      <td>RM Deshpande</td>\n",
       "      <td>NaN</td>\n",
       "    </tr>\n",
       "    <tr>\n",
       "      <th>502</th>\n",
       "      <td>503</td>\n",
       "      <td>K Srinath</td>\n",
       "      <td>NaN</td>\n",
       "    </tr>\n",
       "    <tr>\n",
       "      <th>503</th>\n",
       "      <td>504</td>\n",
       "      <td>SD Fry</td>\n",
       "      <td>NaN</td>\n",
       "    </tr>\n",
       "    <tr>\n",
       "      <th>504</th>\n",
       "      <td>505</td>\n",
       "      <td>CB Gaffaney</td>\n",
       "      <td>NaN</td>\n",
       "    </tr>\n",
       "  </tbody>\n",
       "</table>\n",
       "</div>"
      ],
      "text/plain": [
       "     Player_Id     Player_Name  DOB\n",
       "500        501  RK Illingworth  NaN\n",
       "501        502    RM Deshpande  NaN\n",
       "502        503       K Srinath  NaN\n",
       "503        504          SD Fry  NaN\n",
       "504        505     CB Gaffaney  NaN"
      ]
     },
     "execution_count": 36,
     "metadata": {},
     "output_type": "execute_result"
    }
   ],
   "source": [
    "#iloc\n",
    "#.iloc[index-start:index-end,col-start:col-end]\n",
    "iris.iloc[500:505,0:3]"
   ]
  },
  {
   "cell_type": "code",
   "execution_count": 38,
   "id": "852da039",
   "metadata": {},
   "outputs": [
    {
     "data": {
      "text/html": [
       "<div>\n",
       "<style scoped>\n",
       "    .dataframe tbody tr th:only-of-type {\n",
       "        vertical-align: middle;\n",
       "    }\n",
       "\n",
       "    .dataframe tbody tr th {\n",
       "        vertical-align: top;\n",
       "    }\n",
       "\n",
       "    .dataframe thead th {\n",
       "        text-align: right;\n",
       "    }\n",
       "</style>\n",
       "<table border=\"1\" class=\"dataframe\">\n",
       "  <thead>\n",
       "    <tr style=\"text-align: right;\">\n",
       "      <th></th>\n",
       "      <th>Player_Name</th>\n",
       "      <th>DOB</th>\n",
       "    </tr>\n",
       "  </thead>\n",
       "  <tbody>\n",
       "    <tr>\n",
       "      <th>0</th>\n",
       "      <td>SC Ganguly</td>\n",
       "      <td>8-Jul-72</td>\n",
       "    </tr>\n",
       "    <tr>\n",
       "      <th>1</th>\n",
       "      <td>BB McCullum</td>\n",
       "      <td>27-Sep-81</td>\n",
       "    </tr>\n",
       "    <tr>\n",
       "      <th>2</th>\n",
       "      <td>RT Ponting</td>\n",
       "      <td>19-Dec-74</td>\n",
       "    </tr>\n",
       "    <tr>\n",
       "      <th>3</th>\n",
       "      <td>DJ Hussey</td>\n",
       "      <td>15-Jul-77</td>\n",
       "    </tr>\n",
       "  </tbody>\n",
       "</table>\n",
       "</div>"
      ],
      "text/plain": [
       "   Player_Name        DOB\n",
       "0   SC Ganguly   8-Jul-72\n",
       "1  BB McCullum  27-Sep-81\n",
       "2   RT Ponting  19-Dec-74\n",
       "3    DJ Hussey  15-Jul-77"
      ]
     },
     "execution_count": 38,
     "metadata": {},
     "output_type": "execute_result"
    }
   ],
   "source": [
    "#.loc\n",
    "#.loc[index-starting:index-ending(inclusive),(Column-name,Column-name)}]\n",
    "iris.loc[0:3,(\"Player_Name\",\"DOB\")]"
   ]
  },
  {
   "cell_type": "code",
   "execution_count": 39,
   "id": "eb7d7c65",
   "metadata": {},
   "outputs": [
    {
     "data": {
      "text/html": [
       "<div>\n",
       "<style scoped>\n",
       "    .dataframe tbody tr th:only-of-type {\n",
       "        vertical-align: middle;\n",
       "    }\n",
       "\n",
       "    .dataframe tbody tr th {\n",
       "        vertical-align: top;\n",
       "    }\n",
       "\n",
       "    .dataframe thead th {\n",
       "        text-align: right;\n",
       "    }\n",
       "</style>\n",
       "<table border=\"1\" class=\"dataframe\">\n",
       "  <thead>\n",
       "    <tr style=\"text-align: right;\">\n",
       "      <th></th>\n",
       "      <th>Player_Id</th>\n",
       "      <th>DOB</th>\n",
       "      <th>Batting_Hand</th>\n",
       "      <th>Bowling_Skill</th>\n",
       "      <th>Country</th>\n",
       "      <th>Is_Umpire</th>\n",
       "      <th>Unnamed: 7</th>\n",
       "    </tr>\n",
       "  </thead>\n",
       "  <tbody>\n",
       "    <tr>\n",
       "      <th>0</th>\n",
       "      <td>1</td>\n",
       "      <td>8-Jul-72</td>\n",
       "      <td>Left_Hand</td>\n",
       "      <td>Right-arm medium</td>\n",
       "      <td>India</td>\n",
       "      <td>0</td>\n",
       "      <td>NaN</td>\n",
       "    </tr>\n",
       "    <tr>\n",
       "      <th>1</th>\n",
       "      <td>2</td>\n",
       "      <td>27-Sep-81</td>\n",
       "      <td>Right_Hand</td>\n",
       "      <td>Right-arm medium</td>\n",
       "      <td>New Zealand</td>\n",
       "      <td>0</td>\n",
       "      <td>NaN</td>\n",
       "    </tr>\n",
       "    <tr>\n",
       "      <th>2</th>\n",
       "      <td>3</td>\n",
       "      <td>19-Dec-74</td>\n",
       "      <td>Right_Hand</td>\n",
       "      <td>Right-arm medium</td>\n",
       "      <td>Australia</td>\n",
       "      <td>0</td>\n",
       "      <td>NaN</td>\n",
       "    </tr>\n",
       "    <tr>\n",
       "      <th>3</th>\n",
       "      <td>4</td>\n",
       "      <td>15-Jul-77</td>\n",
       "      <td>Right_Hand</td>\n",
       "      <td>Right-arm offbreak</td>\n",
       "      <td>Australia</td>\n",
       "      <td>0</td>\n",
       "      <td>NaN</td>\n",
       "    </tr>\n",
       "    <tr>\n",
       "      <th>4</th>\n",
       "      <td>5</td>\n",
       "      <td>17-Oct-80</td>\n",
       "      <td>Right_Hand</td>\n",
       "      <td>Right-arm offbreak</td>\n",
       "      <td>Pakistan</td>\n",
       "      <td>0</td>\n",
       "      <td>NaN</td>\n",
       "    </tr>\n",
       "    <tr>\n",
       "      <th>...</th>\n",
       "      <td>...</td>\n",
       "      <td>...</td>\n",
       "      <td>...</td>\n",
       "      <td>...</td>\n",
       "      <td>...</td>\n",
       "      <td>...</td>\n",
       "      <td>...</td>\n",
       "    </tr>\n",
       "    <tr>\n",
       "      <th>518</th>\n",
       "      <td>519</td>\n",
       "      <td>NaN</td>\n",
       "      <td>NaN</td>\n",
       "      <td>NaN</td>\n",
       "      <td>India</td>\n",
       "      <td>1</td>\n",
       "      <td>NaN</td>\n",
       "    </tr>\n",
       "    <tr>\n",
       "      <th>519</th>\n",
       "      <td>520</td>\n",
       "      <td>NaN</td>\n",
       "      <td>NaN</td>\n",
       "      <td>NaN</td>\n",
       "      <td>India</td>\n",
       "      <td>1</td>\n",
       "      <td>NaN</td>\n",
       "    </tr>\n",
       "    <tr>\n",
       "      <th>520</th>\n",
       "      <td>521</td>\n",
       "      <td>NaN</td>\n",
       "      <td>NaN</td>\n",
       "      <td>NaN</td>\n",
       "      <td>India</td>\n",
       "      <td>1</td>\n",
       "      <td>NaN</td>\n",
       "    </tr>\n",
       "    <tr>\n",
       "      <th>521</th>\n",
       "      <td>523</td>\n",
       "      <td>14-Mar-92</td>\n",
       "      <td>Right_Hand</td>\n",
       "      <td>NaN</td>\n",
       "      <td>India</td>\n",
       "      <td>0</td>\n",
       "      <td>NaN</td>\n",
       "    </tr>\n",
       "    <tr>\n",
       "      <th>522</th>\n",
       "      <td>524</td>\n",
       "      <td>8-Jul-94</td>\n",
       "      <td>Right_Hand</td>\n",
       "      <td>Right-arm offbreak</td>\n",
       "      <td>India</td>\n",
       "      <td>0</td>\n",
       "      <td>NaN</td>\n",
       "    </tr>\n",
       "  </tbody>\n",
       "</table>\n",
       "<p>523 rows × 7 columns</p>\n",
       "</div>"
      ],
      "text/plain": [
       "     Player_Id        DOB Batting_Hand       Bowling_Skill      Country  \\\n",
       "0            1   8-Jul-72    Left_Hand    Right-arm medium        India   \n",
       "1            2  27-Sep-81   Right_Hand    Right-arm medium  New Zealand   \n",
       "2            3  19-Dec-74   Right_Hand    Right-arm medium    Australia   \n",
       "3            4  15-Jul-77   Right_Hand  Right-arm offbreak    Australia   \n",
       "4            5  17-Oct-80   Right_Hand  Right-arm offbreak     Pakistan   \n",
       "..         ...        ...          ...                 ...          ...   \n",
       "518        519        NaN          NaN                 NaN        India   \n",
       "519        520        NaN          NaN                 NaN        India   \n",
       "520        521        NaN          NaN                 NaN        India   \n",
       "521        523  14-Mar-92   Right_Hand                 NaN        India   \n",
       "522        524   8-Jul-94   Right_Hand  Right-arm offbreak        India   \n",
       "\n",
       "     Is_Umpire  Unnamed: 7  \n",
       "0            0         NaN  \n",
       "1            0         NaN  \n",
       "2            0         NaN  \n",
       "3            0         NaN  \n",
       "4            0         NaN  \n",
       "..         ...         ...  \n",
       "518          1         NaN  \n",
       "519          1         NaN  \n",
       "520          1         NaN  \n",
       "521          0         NaN  \n",
       "522          0         NaN  \n",
       "\n",
       "[523 rows x 7 columns]"
      ]
     },
     "execution_count": 39,
     "metadata": {},
     "output_type": "execute_result"
    }
   ],
   "source": [
    "#Dropping Columns\n",
    "#   axis1=column   axis0=row\n",
    "iris.drop(\"Player_Name\",axis=1)"
   ]
  },
  {
   "cell_type": "code",
   "execution_count": 40,
   "id": "3a5b9628",
   "metadata": {},
   "outputs": [
    {
     "data": {
      "text/html": [
       "<div>\n",
       "<style scoped>\n",
       "    .dataframe tbody tr th:only-of-type {\n",
       "        vertical-align: middle;\n",
       "    }\n",
       "\n",
       "    .dataframe tbody tr th {\n",
       "        vertical-align: top;\n",
       "    }\n",
       "\n",
       "    .dataframe thead th {\n",
       "        text-align: right;\n",
       "    }\n",
       "</style>\n",
       "<table border=\"1\" class=\"dataframe\">\n",
       "  <thead>\n",
       "    <tr style=\"text-align: right;\">\n",
       "      <th></th>\n",
       "      <th>Player_Id</th>\n",
       "      <th>Player_Name</th>\n",
       "      <th>DOB</th>\n",
       "      <th>Batting_Hand</th>\n",
       "      <th>Bowling_Skill</th>\n",
       "      <th>Country</th>\n",
       "      <th>Is_Umpire</th>\n",
       "      <th>Unnamed: 7</th>\n",
       "    </tr>\n",
       "  </thead>\n",
       "  <tbody>\n",
       "    <tr>\n",
       "      <th>0</th>\n",
       "      <td>1</td>\n",
       "      <td>SC Ganguly</td>\n",
       "      <td>8-Jul-72</td>\n",
       "      <td>Left_Hand</td>\n",
       "      <td>Right-arm medium</td>\n",
       "      <td>India</td>\n",
       "      <td>0</td>\n",
       "      <td>NaN</td>\n",
       "    </tr>\n",
       "    <tr>\n",
       "      <th>4</th>\n",
       "      <td>5</td>\n",
       "      <td>Mohammad Hafeez</td>\n",
       "      <td>17-Oct-80</td>\n",
       "      <td>Right_Hand</td>\n",
       "      <td>Right-arm offbreak</td>\n",
       "      <td>Pakistan</td>\n",
       "      <td>0</td>\n",
       "      <td>NaN</td>\n",
       "    </tr>\n",
       "    <tr>\n",
       "      <th>5</th>\n",
       "      <td>6</td>\n",
       "      <td>R Dravid</td>\n",
       "      <td>11-Jan-73</td>\n",
       "      <td>Right_Hand</td>\n",
       "      <td>Right-arm offbreak</td>\n",
       "      <td>India</td>\n",
       "      <td>0</td>\n",
       "      <td>NaN</td>\n",
       "    </tr>\n",
       "    <tr>\n",
       "      <th>6</th>\n",
       "      <td>7</td>\n",
       "      <td>W Jaffer</td>\n",
       "      <td>16-Feb-78</td>\n",
       "      <td>Right_Hand</td>\n",
       "      <td>Right-arm offbreak</td>\n",
       "      <td>India</td>\n",
       "      <td>0</td>\n",
       "      <td>NaN</td>\n",
       "    </tr>\n",
       "    <tr>\n",
       "      <th>7</th>\n",
       "      <td>8</td>\n",
       "      <td>V Kohli</td>\n",
       "      <td>5-Nov-88</td>\n",
       "      <td>Right_Hand</td>\n",
       "      <td>Right-arm medium</td>\n",
       "      <td>India</td>\n",
       "      <td>0</td>\n",
       "      <td>NaN</td>\n",
       "    </tr>\n",
       "    <tr>\n",
       "      <th>...</th>\n",
       "      <td>...</td>\n",
       "      <td>...</td>\n",
       "      <td>...</td>\n",
       "      <td>...</td>\n",
       "      <td>...</td>\n",
       "      <td>...</td>\n",
       "      <td>...</td>\n",
       "      <td>...</td>\n",
       "    </tr>\n",
       "    <tr>\n",
       "      <th>518</th>\n",
       "      <td>519</td>\n",
       "      <td>Subroto Das</td>\n",
       "      <td>NaN</td>\n",
       "      <td>NaN</td>\n",
       "      <td>NaN</td>\n",
       "      <td>India</td>\n",
       "      <td>1</td>\n",
       "      <td>NaN</td>\n",
       "    </tr>\n",
       "    <tr>\n",
       "      <th>519</th>\n",
       "      <td>520</td>\n",
       "      <td>K Srinivasan</td>\n",
       "      <td>NaN</td>\n",
       "      <td>NaN</td>\n",
       "      <td>NaN</td>\n",
       "      <td>India</td>\n",
       "      <td>1</td>\n",
       "      <td>NaN</td>\n",
       "    </tr>\n",
       "    <tr>\n",
       "      <th>520</th>\n",
       "      <td>521</td>\n",
       "      <td>VK Sharma</td>\n",
       "      <td>NaN</td>\n",
       "      <td>NaN</td>\n",
       "      <td>NaN</td>\n",
       "      <td>India</td>\n",
       "      <td>1</td>\n",
       "      <td>NaN</td>\n",
       "    </tr>\n",
       "    <tr>\n",
       "      <th>521</th>\n",
       "      <td>523</td>\n",
       "      <td>AV Wankhade</td>\n",
       "      <td>14-Mar-92</td>\n",
       "      <td>Right_Hand</td>\n",
       "      <td>NaN</td>\n",
       "      <td>India</td>\n",
       "      <td>0</td>\n",
       "      <td>NaN</td>\n",
       "    </tr>\n",
       "    <tr>\n",
       "      <th>522</th>\n",
       "      <td>524</td>\n",
       "      <td>B Aparajith</td>\n",
       "      <td>8-Jul-94</td>\n",
       "      <td>Right_Hand</td>\n",
       "      <td>Right-arm offbreak</td>\n",
       "      <td>India</td>\n",
       "      <td>0</td>\n",
       "      <td>NaN</td>\n",
       "    </tr>\n",
       "  </tbody>\n",
       "</table>\n",
       "<p>520 rows × 8 columns</p>\n",
       "</div>"
      ],
      "text/plain": [
       "     Player_Id      Player_Name        DOB Batting_Hand       Bowling_Skill  \\\n",
       "0            1       SC Ganguly   8-Jul-72    Left_Hand    Right-arm medium   \n",
       "4            5  Mohammad Hafeez  17-Oct-80   Right_Hand  Right-arm offbreak   \n",
       "5            6         R Dravid  11-Jan-73   Right_Hand  Right-arm offbreak   \n",
       "6            7         W Jaffer  16-Feb-78   Right_Hand  Right-arm offbreak   \n",
       "7            8          V Kohli   5-Nov-88   Right_Hand    Right-arm medium   \n",
       "..         ...              ...        ...          ...                 ...   \n",
       "518        519      Subroto Das        NaN          NaN                 NaN   \n",
       "519        520     K Srinivasan        NaN          NaN                 NaN   \n",
       "520        521        VK Sharma        NaN          NaN                 NaN   \n",
       "521        523      AV Wankhade  14-Mar-92   Right_Hand                 NaN   \n",
       "522        524      B Aparajith   8-Jul-94   Right_Hand  Right-arm offbreak   \n",
       "\n",
       "      Country  Is_Umpire  Unnamed: 7  \n",
       "0       India          0         NaN  \n",
       "4    Pakistan          0         NaN  \n",
       "5       India          0         NaN  \n",
       "6       India          0         NaN  \n",
       "7       India          0         NaN  \n",
       "..        ...        ...         ...  \n",
       "518     India          1         NaN  \n",
       "519     India          1         NaN  \n",
       "520     India          1         NaN  \n",
       "521     India          0         NaN  \n",
       "522     India          0         NaN  \n",
       "\n",
       "[520 rows x 8 columns]"
      ]
     },
     "execution_count": 40,
     "metadata": {},
     "output_type": "execute_result"
    }
   ],
   "source": [
    "#Dropping Rows\n",
    "iris.drop([1,2,3],axis=0)"
   ]
  },
  {
   "cell_type": "code",
   "execution_count": 42,
   "id": "3a0d8349",
   "metadata": {},
   "outputs": [
    {
     "name": "stdout",
     "output_type": "stream",
     "text": [
      "Player_Id     262.003824\n",
      "Is_Umpire       0.099426\n",
      "Unnamed: 7      6.500000\n",
      "dtype: float64\n",
      "Player_Id     262.0\n",
      "Is_Umpire       0.0\n",
      "Unnamed: 7      6.5\n",
      "dtype: float64\n",
      "Player_Id                   1\n",
      "Player_Name    A Ashish Reddy\n",
      "Country             Australia\n",
      "Is_Umpire                   0\n",
      "Unnamed: 7                1.0\n",
      "dtype: object\n",
      "Player_Id            524\n",
      "Player_Name       Z Khan\n",
      "Country        Zimbabwea\n",
      "Is_Umpire              1\n",
      "Unnamed: 7          12.0\n",
      "dtype: object\n"
     ]
    }
   ],
   "source": [
    "print(iris.mean())\n",
    "print(iris.median())\n",
    "print(iris.min())\n",
    "print(iris.max())"
   ]
  },
  {
   "cell_type": "code",
   "execution_count": null,
   "id": "117dce55",
   "metadata": {},
   "outputs": [],
   "source": []
  }
 ],
 "metadata": {
  "kernelspec": {
   "display_name": "Python 3",
   "language": "python",
   "name": "python3"
  },
  "language_info": {
   "codemirror_mode": {
    "name": "ipython",
    "version": 3
   },
   "file_extension": ".py",
   "mimetype": "text/x-python",
   "name": "python",
   "nbconvert_exporter": "python",
   "pygments_lexer": "ipython3",
   "version": "3.8.8"
  }
 },
 "nbformat": 4,
 "nbformat_minor": 5
}
